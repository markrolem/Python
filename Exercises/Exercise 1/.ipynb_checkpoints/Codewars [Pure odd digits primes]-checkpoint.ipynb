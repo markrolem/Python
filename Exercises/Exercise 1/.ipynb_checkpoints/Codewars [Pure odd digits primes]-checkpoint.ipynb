{
 "cells": [
  {
   "cell_type": "code",
   "execution_count": null,
   "metadata": {},
   "outputs": [],
   "source": [
    "# ==== PROBLEM ====\n",
    "\n",
    "Primes that have only odd digits are pure odd digits primes, obvious but necessary definition. Examples of pure odd digit primes are: 11, 13, 17, 19, 31... If a prime has only one even digit does not belong to pure odd digits prime, no matter the amount of odd digits that may have.\n",
    "\n",
    "Create a function, only_oddDigPrimes(), that receive any positive integer n, and output a list like the one bellow:\n",
    "\n",
    "[number pure odd digit primes bellow n, largest pure odd digit prime smaller than n, smallest pure odd digit prime higher than n]\n",
    "\n",
    "Let's see some cases:\n",
    "\n",
    "only_oddDigPrimes(20) ----> [7, 19, 31]\n",
    "///7, beacause we have seven pure odd digit primes bellow 20 and are 3, 5, 7, 11, 13, 17, 19\n",
    "19, because is the nearest prime of this type to 20\n",
    "31, is the first pure odd digit that we encounter after 20///\n",
    "\n",
    "only_oddDigPrimes(40) ----> [9, 37, 53]\n",
    "In the case that n, the given value, is a pure odd prime, should be counted it with the found primes and search for the inmediately bellow and the inmediately after.\n",
    "\n",
    "Happy coding!!"
   ]
  },
  {
   "cell_type": "code",
   "execution_count": 1,
   "metadata": {},
   "outputs": [
    {
     "data": {
      "text/plain": [
       "[11, 59, 71]"
      ]
     },
     "execution_count": 1,
     "metadata": {},
     "output_type": "execute_result"
    }
   ],
   "source": [
    "# ==== SOLUTION ====\n",
    "\n",
    "import math #for the function of square root and floor\n",
    "\n",
    "def only_oddDigPrimes(n):\n",
    "    \"\"\"\n",
    "    Return a list with the following format:\n",
    "    [<number of P.O.D.P below n>, <highest P.O.D.P before n>, <lowest P.O.D.P after n>]\n",
    "    \"\"\"\n",
    "    odds = list(prime_odds(n)) #getting the processed list of PODP\n",
    "    return [len(odds), odds[-1], next_odd(odds[-1], odds)]\n",
    "    # [<length of odds get>, <highest odd number before n>, <next PODP after n>]\n",
    "\n",
    "def prime_odds(n):\n",
    "    \"\"\"\n",
    "    Return list of P.O.D.P (Pure Odd Digit Prime) below a number\n",
    "    \"\"\"\n",
    "    initial_odds = [i for i in range(2,n) if i%2 != 0] #list of odd numbers below n\n",
    "    return [i for i in initial_odds if no_even(i) and prime(i)] #PODP\n",
    "    #returns list from initial_odds that has no even number and divisible only by itself\n",
    "\n",
    "def no_even(n):\n",
    "    \"\"\"\n",
    "    Return True if the given number has no even on it. False otherwise\n",
    "    \"\"\"\n",
    "    return True if sum([0 if int(i)%2 != 0  else 1 for i in str(n)]) == 0 else False\n",
    "    #first, make a list that has values 0 or 1, where 0 if odd and 1 if even\n",
    "    #second, sum up the created list\n",
    "    #third, returns True if the sum is 0, which means it is all odd, and False if there are one or more even numbers on n\n",
    "\n",
    "def prime(n):\n",
    "    \"\"\"\n",
    "    Return True if the number is divisible by itself. Otherwise False\n",
    "    \"\"\"\n",
    "    if (n == 1) or (n > 2 and n % 2 == 0): #False if n is equal to 1 and greater than 2 that is even\n",
    "        return False\n",
    "    if n == 2: #2 is a prime number\n",
    "        return True\n",
    "    \n",
    "    max_divisor = math.floor(math.sqrt(n)) #getting square root of n to use it as the range for comparing\n",
    "    for d in range(3, max_divisor + 1, 2): #starts from 3 to square root of n, with step with every other number (odds)\n",
    "        if n % d == 0: #not a prime number\n",
    "            return False\n",
    "    return True #final choice, means n is a prime number\n",
    "\n",
    "def next_odd(n, lst):\n",
    "    \"\"\"\n",
    "    Return the lowest P.O.D.P (Pure Odd Digit Prime) after a number\n",
    "    \"\"\"\n",
    "    no = n+1 #starting number for checking the lowest P.O.D.P\n",
    "    odds = lst #initialize starting list of odd numbers\n",
    "    check = False #identifier if the lowest P.O.D.P is met\n",
    "    while check==False: #loop while P.O.D.P is not met\n",
    "        if no%2 != 0: #odd number\n",
    "            odds.append(no) #add to the list of odds\n",
    "            if no_even(no) and prime(no): #n is P.O.D.P\n",
    "                check = True\n",
    "            else: #n is not P.O.D.P\n",
    "                no += 1\n",
    "        else: #not odd number\n",
    "            no += 1\n",
    "    return no\n",
    "    \n",
    "only_oddDigPrimes(60)"
   ]
  }
 ],
 "metadata": {
  "kernelspec": {
   "display_name": "Python 3",
   "language": "python",
   "name": "python3"
  },
  "language_info": {
   "codemirror_mode": {
    "name": "ipython",
    "version": 3
   },
   "file_extension": ".py",
   "mimetype": "text/x-python",
   "name": "python",
   "nbconvert_exporter": "python",
   "pygments_lexer": "ipython3",
   "version": "3.6.5"
  }
 },
 "nbformat": 4,
 "nbformat_minor": 2
}
