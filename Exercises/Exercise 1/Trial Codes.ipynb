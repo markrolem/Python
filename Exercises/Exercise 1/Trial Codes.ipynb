{
 "cells": [
  {
   "cell_type": "code",
   "execution_count": 1,
   "metadata": {},
   "outputs": [
    {
     "name": "stdout",
     "output_type": "stream",
     "text": [
      "Time required:  0.25785064697265625\n"
     ]
    }
   ],
   "source": [
    "import math\n",
    "import time\n",
    "\n",
    "def is_prime_v1(n):\n",
    "    \"\"\"Return 'True' if 'n' is a prime number. False otherwise\"\"\"\n",
    "    if n == 1:\n",
    "        return False # 1 is not prime\n",
    "    \n",
    "    for d in range(2,n):\n",
    "        if n % d == 0:\n",
    "            return False\n",
    "    return True\n",
    "\n",
    "def is_prime_v2(n):\n",
    "    \"\"\"Return 'True' if 'n' is a prime number. False otherwise\"\"\"\n",
    "    if n == 1:\n",
    "        return False # 1 is not prime\n",
    "    max_divisor = math.floor(math.sqrt(n))\n",
    "    for d in range(2, max_divisor + 1):\n",
    "        if n % 2 == 0:\n",
    "            return False\n",
    "    return True\n",
    "\n",
    "def is_prime_v3(n):\n",
    "    \"\"\"Return 'True' if 'n' is a prime number. False otherwise\"\"\"\n",
    "    if n == 1:\n",
    "        return False # 1 is not prime\n",
    "    \n",
    "    #If it's even and not 2, then it's not prime\n",
    "    if n == 2:\n",
    "        return True\n",
    "    if n > 2 and n % 2 == 0:\n",
    "        return False\n",
    "    \n",
    "    max_divisor = math.floor(math.sqrt(n))\n",
    "    for d in range(3, max_divisor + 1, 2):\n",
    "        if n % d == 0:\n",
    "            return False\n",
    "    return True\n",
    "\n",
    "# ==== Test Function ====\n",
    "t0 = time.time()\n",
    "for n in range(1,100000):\n",
    "    is_prime_v3(n)\n",
    "t1 = time.time()\n",
    "print(\"Time required: \", t1-t0)\n",
    "\n",
    "# Reference: https://www.youtube.com/watch?v=2p3kwF04xcA"
   ]
  }
 ],
 "metadata": {
  "kernelspec": {
   "display_name": "Python 3",
   "language": "python",
   "name": "python3"
  },
  "language_info": {
   "codemirror_mode": {
    "name": "ipython",
    "version": 3
   },
   "file_extension": ".py",
   "mimetype": "text/x-python",
   "name": "python",
   "nbconvert_exporter": "python",
   "pygments_lexer": "ipython3",
   "version": "3.6.5"
  }
 },
 "nbformat": 4,
 "nbformat_minor": 2
}
